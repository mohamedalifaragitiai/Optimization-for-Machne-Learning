{
 "cells": [
  {
   "cell_type": "code",
   "execution_count": 1,
   "id": "547ba6ae",
   "metadata": {},
   "outputs": [
    {
     "data": {
      "image/png": "[encoded data removed]",
      "text/plain": [
       "<Figure size 432x288 with 1 Axes>"
      ]
     },
     "metadata": {
      "needs_background": "light"
     },
     "output_type": "display_data"
    }
   ],
   "source": [
    "#Check Convexity\n",
    "import numpy as np\n",
    "import matplotlib.pyplot as plt\n",
    "\n",
    "def f(x):\n",
    "    return -(x**3) + 6*(x**2) - 2*x + 1\n",
    "\n",
    "l = []\n",
    "x = -100\n",
    "for i in range(200):\n",
    "    l.append(f(x))\n",
    "    x += 1\n",
    "plt.plot(np.linspace(-100, 100, num = 200), l)\n",
    "plt.show()\n"
   ]
  },
  {
   "cell_type": "code",
   "execution_count": 2,
   "id": "58551c45",
   "metadata": {},
   "outputs": [
    {
     "name": "stdout",
     "output_type": "stream",
     "text": [
      "12.001000000000001\n",
      "13\n",
      "13.998999999999999\n"
     ]
    }
   ],
   "source": [
    "print(f(1.9))\n",
    "print(f(2))\n",
    "print(f(2.1))"
   ]
  },
  {
   "cell_type": "code",
   "execution_count": 3,
   "id": "a2f37eb9",
   "metadata": {},
   "outputs": [
    {
     "data": {
      "image/png": "[encoded data removed]",
      "text/plain": [
       "<Figure size 432x288 with 1 Axes>"
      ]
     },
     "metadata": {
      "needs_background": "light"
     },
     "output_type": "display_data"
    }
   ],
   "source": [
    "#Check Convexity\n",
    "def f1(x):\n",
    "    return 2*(x**3) - 18*(x**2)\n",
    "\n",
    "l = []\n",
    "x = -100\n",
    "for i in range(200):\n",
    "    l.append(f1(x))\n",
    "    x += 1\n",
    "plt.plot(np.linspace(-100, 100, num = 200), l)\n",
    "plt.show()"
   ]
  },
  {
   "cell_type": "code",
   "execution_count": 4,
   "id": "1cf67826",
   "metadata": {},
   "outputs": [
    {
     "name": "stdout",
     "output_type": "stream",
     "text": [
      "-102.602\n",
      "-108\n",
      "-113.39800000000001\n"
     ]
    }
   ],
   "source": [
    "print(f1(2.9))\n",
    "print(f1(3))\n",
    "print(f1(3.1))"
   ]
  },
  {
   "cell_type": "code",
   "execution_count": 5,
   "id": "92b1c7ba",
   "metadata": {},
   "outputs": [],
   "source": [
    "#the first line in the data frame"
   ]
  },
  {
   "cell_type": "code",
   "execution_count": 6,
   "id": "f1a2b89d",
   "metadata": {},
   "outputs": [
    {
     "name": "stdout",
     "output_type": "stream",
     "text": [
      "1\n",
      "-1\n",
      "1\n",
      "****************\n",
      "2.0\n",
      "1.0\n",
      "3.0\n",
      "****************\n",
      "1.6666666666666667\n",
      "0.11111111111111138\n",
      "2.3333333333333335\n",
      "****************\n",
      "1.619047619047619\n",
      "0.0022675736961450532\n",
      "2.238095238095238\n",
      "****************\n",
      "1.618034447821682\n",
      "1.0265159333666674e-06\n",
      "2.236068895643364\n",
      "****************\n",
      "1.618033988749989\n",
      "2.1049828546892968e-13\n",
      "2.236067977499978\n",
      "****************\n",
      "1.618033988749895\n"
     ]
    }
   ],
   "source": [
    "#Newton Raohson Method\n",
    "# HW1 Q1(a)\n",
    "\n",
    "def fun(x):\n",
    "    return (x**2) - x - 1 \n",
    "def fun_derv(x):\n",
    "    return 2*x - 1\n",
    "\n",
    "x_old = 1\n",
    "x_new = 0\n",
    "error = x_new - x_old\n",
    "\n",
    "while abs(error) >= 0.0000001:\n",
    "    print(x_old)\n",
    "    print(fun(x_old))\n",
    "    print(fun_derv(x_old))\n",
    "    x_new = x_old - fun(x_old)/fun_derv(x_old)\n",
    "    error = x_new - x_old\n",
    "    x_old = x_new\n",
    "    print(\"****************\")\n",
    "    \n",
    "print(x_new)"
   ]
  },
  {
   "cell_type": "code",
   "execution_count": 7,
   "id": "8375f687",
   "metadata": {},
   "outputs": [
    {
     "name": "stdout",
     "output_type": "stream",
     "text": [
      "5\n",
      "-13\n",
      "13\n",
      "****************\n",
      "6.0\n",
      "9.0\n",
      "32.0\n",
      "****************\n",
      "5.71875\n",
      "0.847869873046875\n",
      "26.0498046875\n",
      "****************\n",
      "5.686201968134958\n",
      "0.010724790478420232\n",
      "25.391850913376203\n",
      "****************\n",
      "5.685779596779872\n",
      "1.7943554411203877e-06\n",
      "25.383354514556643\n",
      "****************\n",
      "5.6857795260896316\n"
     ]
    }
   ],
   "source": [
    "#Newton Raohson Method\n",
    "# HW1 Q1(b)\n",
    "\n",
    "def fun(x):\n",
    "    return (x**3) - 7*(x**2) + 8*x - 3 \n",
    "def fun_derv(x):\n",
    "    return 3*(x**2) - 14*x + 8\n",
    "\n",
    "x_old = 5\n",
    "x_new = 0\n",
    "error = x_new - x_old\n",
    "\n",
    "while abs(error) >= 0.0000001:\n",
    "    print(x_old)\n",
    "    print(fun(x_old))\n",
    "    print(fun_derv(x_old))\n",
    "    x_new = x_old - fun(x_old)/fun_derv(x_old)\n",
    "    error = x_new - x_old\n",
    "    x_old = x_new\n",
    "    print(\"****************\")\n",
    "    \n",
    "print(x_new)"
   ]
  },
  {
   "cell_type": "code",
   "execution_count": 8,
   "id": "3cf8890a",
   "metadata": {},
   "outputs": [
    {
     "name": "stdout",
     "output_type": "stream",
     "text": [
      "1\n",
      "-0.45969769413186023\n",
      "-2.3011686789397565\n",
      "****************\n",
      "0.800232943226195\n",
      "-0.08297883948264928\n",
      "-1.4781081319261755\n",
      "****************\n",
      "0.7440943984943447\n",
      "-0.006245054317481014\n",
      "-1.25646670233434\n",
      "****************\n",
      "0.7391240683567624\n",
      "-4.816345411129408e-05\n",
      "-1.237093363683119\n",
      "****************\n",
      "0.7390851356007351\n",
      "-2.9508167020964038e-09\n",
      "-1.2369417788275363\n",
      "****************\n",
      "0.7390851332151607\n"
     ]
    }
   ],
   "source": [
    "#Newton Raohson Method\n",
    "# HW1 Q1(c)\n",
    "\n",
    "import math \n",
    "def fun(x):\n",
    "    return x*math.cos(x) - x**2\n",
    "def fun_derv(x):\n",
    "    return math.cos(x) - x*math.sin(x) - 2*x\n",
    "\n",
    "x_old = 1\n",
    "x_new = 0\n",
    "error = x_new - x_old\n",
    "\n",
    "while abs(error) >= 0.0000001:\n",
    "    print(x_old)\n",
    "    print(fun(x_old))\n",
    "    print(fun_derv(x_old))\n",
    "    x_new = x_old - fun(x_old)/fun_derv(x_old)\n",
    "    error = x_new - x_old\n",
    "    x_old = x_new\n",
    "    print(\"****************\")\n",
    "    \n",
    "print(x_new)"
   ]
  },
  {
   "cell_type": "code",
   "execution_count": 9,
   "id": "85e3c6d1",
   "metadata": {},
   "outputs": [
    {
     "name": "stdout",
     "output_type": "stream",
     "text": [
      "4.5\n",
      "4.375\n",
      "36.75\n",
      "****************\n",
      "4.380952380952381\n",
      "0.17546701220172167\n",
      "33.81632653061226\n",
      "****************\n",
      "4.375763555606645\n",
      "0.0003267934707906761\n",
      "33.69039297251264\n",
      "****************\n",
      "4.375753855705814\n",
      "1.1410321576477145e-09\n",
      "33.69015770576127\n",
      "****************\n",
      "4.375753855671946\n"
     ]
    }
   ],
   "source": [
    "#Newton Raohson Method\n",
    "#Quiz1 Q3\n",
    "\n",
    "def fun(x):\n",
    "    return (x**3) - (x**2) - 15*x + 1 \n",
    "def fun_derv(x):\n",
    "    return 3*(x**2) - 2*x - 15\n",
    "\n",
    "x_old = 4.5\n",
    "x_new = 0\n",
    "error = x_new - x_old\n",
    "\n",
    "while abs(error) >= 0.0000001:\n",
    "    print(x_old)\n",
    "    print(fun(x_old))\n",
    "    print(fun_derv(x_old))\n",
    "    x_new = x_old - fun(x_old)/fun_derv(x_old)\n",
    "    error = x_new - x_old\n",
    "    x_old = x_new\n",
    "    print(\"****************\")\n",
    "    \n",
    "print(x_new)"
   ]
  }
 ],
 "metadata": {
  "kernelspec": {
   "display_name": "Python 3",
   "language": "python",
   "name": "python3"
  },
  "language_info": {
   "codemirror_mode": {
    "name": "ipython",
    "version": 3
   },
   "file_extension": ".py",
   "mimetype": "text/x-python",
   "name": "python",
   "nbconvert_exporter": "python",
   "pygments_lexer": "ipython3",
   "version": "3.7.11"
  }
 },
 "nbformat": 4,
 "nbformat_minor": 5
}
